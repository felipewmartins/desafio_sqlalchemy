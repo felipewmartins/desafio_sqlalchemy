{
 "cells": [
  {
   "cell_type": "markdown",
   "id": "523af8f76fec913d",
   "metadata": {
    "collapsed": false
   },
   "source": []
  },
  {
   "cell_type": "markdown",
   "id": "d1b5e4e9129ee005",
   "metadata": {
    "collapsed": false
   },
   "source": [
    "# Download de arquivos"
   ]
  },
  {
   "cell_type": "code",
   "execution_count": 3,
   "id": "98cc5fe9b11345b2",
   "metadata": {
    "ExecuteTime": {
     "end_time": "2024-03-20T00:11:34.514754Z",
     "start_time": "2024-03-20T00:11:34.474753Z"
    },
    "collapsed": false
   },
   "outputs": [],
   "source": [
    "import os.path\n",
    "\n",
    "from google.auth.transport.requests import Request\n",
    "from google.oauth2.credentials import Credentials\n",
    "from google_auth_oauthlib.flow import InstalledAppFlow\n",
    "from googleapiclient.http import MediaIoBaseDownload\n",
    "from googleapiclient.discovery import build\n",
    "from googleapiclient.errors import HttpError\n",
    "\n",
    "# If modifying these scopes, delete the file token.json.\n",
    "SCOPES = [\"https://www.googleapis.com/auth/drive.readonly\"]\n",
    "FOLDER_ID = '1NWtp0sb_DXDPXnUdNCal1rzoZw6zMjfc'\n",
    "\n",
    "\n",
    "def main():\n",
    "    \"\"\"Shows basic usage of the Drive v3 API.\n",
    "    Prints the names and ids of the first 10 files the user has access to.\n",
    "    \"\"\"\n",
    "    creds = None\n",
    "    # The file token.json stores the user's access and refresh tokens, and is\n",
    "    # created automatically when the authorization flow completes for the first\n",
    "    # time.\n",
    "    if os.path.exists(\"token.json\"):\n",
    "        creds = Credentials.from_authorized_user_file(\"token.json\", SCOPES)\n",
    "    # If there are no (valid) credentials available, let the user log in.\n",
    "    if not creds or not creds.valid:\n",
    "        if creds and creds.expired and creds.refresh_token:\n",
    "            creds.refresh(Request())\n",
    "        else:\n",
    "            flow = InstalledAppFlow.from_client_secrets_file(\n",
    "                \"credentials.json\", SCOPES\n",
    "            )\n",
    "            creds = flow.run_local_server(port=0)\n",
    "        # Save the credentials for the next run\n",
    "        with open(\"token.json\", \"w\") as token:\n",
    "            token.write(creds.to_json())\n",
    "\n",
    "    try:\n",
    "        service = build(\"drive\", \"v3\", credentials=creds)\n",
    "\n",
    "        page_token = None\n",
    "        # Call the Drive v3 API\n",
    "        while True:\n",
    "            # Call the Drive v3 API\n",
    "            results = service.files().list(\n",
    "                q=f\"'{FOLDER_ID}' in parents\",\n",
    "                pageSize=10, fields=\"nextPageToken, files(id, name)\",\n",
    "                pageToken=page_token).execute()\n",
    "            items = results.get('files', [])\n",
    "    \n",
    "            if not items:\n",
    "                print('No files found.')\n",
    "            else:\n",
    "                for item in items:\n",
    "                    print(u'{0} ({1})'.format(item['name'], item['id']))\n",
    "    \n",
    "    \n",
    "                    file_id = item['id']\n",
    "                    request = service.files().get_media(fileId=file_id)\n",
    "    \n",
    "                    with open('data/'+item['name'], 'wb') as fh:\n",
    "                        downloader = MediaIoBaseDownload(fh, request)\n",
    "                        done = False\n",
    "                        while done is False:\n",
    "                            status, done = downloader.next_chunk()\n",
    "                            print(\"Download %d%%.\" % int(status.progress() * 100))\n",
    "    \n",
    "            page_token = results.get('nextPageToken', None)\n",
    "            if page_token is None:\n",
    "                break\n",
    "    except HttpError as error:\n",
    "        # TODO(developer) - Handle errors from drive API.\n",
    "        print(f\"An error occurred: {error}\")\n",
    "\n",
    "    if __name__ == \"__main__\":\n",
    "        main()"
   ]
  },
  {
   "cell_type": "code",
   "execution_count": null,
   "id": "a561ca4f18fe0273",
   "metadata": {
    "ExecuteTime": {
     "start_time": "2024-03-20T00:11:36.577454Z"
    },
    "collapsed": false,
    "is_executing": true
   },
   "outputs": [],
   "source": [
    "main()"
   ]
  },
  {
   "cell_type": "code",
   "execution_count": null,
   "id": "388ba7f048e68386",
   "metadata": {
    "collapsed": false
   },
   "outputs": [],
   "source": []
  }
 ],
 "metadata": {
  "kernelspec": {
   "display_name": "Python 3",
   "language": "python",
   "name": "python3"
  },
  "language_info": {
   "codemirror_mode": {
    "name": "ipython",
    "version": 2
   },
   "file_extension": ".py",
   "mimetype": "text/x-python",
   "name": "python",
   "nbconvert_exporter": "python",
   "pygments_lexer": "ipython2",
   "version": "2.7.6"
  }
 },
 "nbformat": 4,
 "nbformat_minor": 5
}
