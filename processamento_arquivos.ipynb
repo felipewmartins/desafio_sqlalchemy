{
 "cells": [
  {
   "cell_type": "markdown",
   "source": [
    "### Criação do banco em memória"
   ],
   "metadata": {
    "collapsed": false
   },
   "id": "e27b8f7eed21c015"
  },
  {
   "cell_type": "code",
   "outputs": [
    {
     "data": {
      "text/plain": "<duckdb.duckdb.DuckDBPyConnection at 0x1e93e83aef0>"
     },
     "execution_count": 1,
     "metadata": {},
     "output_type": "execute_result"
    }
   ],
   "source": [
    "import duckdb as duck\n",
    "\n",
    "conn = duck.connect(database=':memory:', read_only=False)\n",
    "conn.execute(\"CREATE TABLE endereco(COD_UF int64, COD_MUN int64, COD_ESPECIE int64, LATITUDE double, LONGITUDE double, NV_GEO_COORD int64)\")"
   ],
   "metadata": {
    "collapsed": false,
    "ExecuteTime": {
     "end_time": "2024-03-20T02:00:16.541970Z",
     "start_time": "2024-03-20T02:00:15.968318Z"
    }
   },
   "id": "447611fbbaa2442a",
   "execution_count": 1
  },
  {
   "cell_type": "markdown",
   "source": [
    "### Lendo lista de arquivos e processando dados em memória."
   ],
   "metadata": {
    "collapsed": false
   },
   "id": "31cf5ea99960e752"
  },
  {
   "cell_type": "code",
   "outputs": [],
   "source": [
    "import os\n",
    "from shutil import move\n",
    "\n",
    "arquivos = os.listdir('data')\n",
    "\n",
    "def persistDataInMemory(arquivo):\n",
    "    conn.sql(f\"INSERT INTO endereco SELECT * FROM read_csv('data/{arquivo}')\")\n",
    "    \n",
    "def moveArquivoProcessado(arquivo):\n",
    "    move('data/'+arquivo, 'processados/'+arquivo)\n",
    "\n",
    "for arquivo in arquivos:\n",
    "    print(f\"Iniciando processamento do arquivo ==> 'data/{arquivo}'\")\n",
    "    persistDataInMemory(arquivo)\n",
    "    print(f\"Finalizando processamento do arquivo ==> 'data/{arquivo}'\")\n",
    "    print(f\"Iniciando move do arquivo ==> 'data/{arquivo}\")\n",
    "    moveArquivoProcessado(arquivo)\n",
    "    print(f\"Finalizando move do arquivo ==> 'data/{arquivo}\")"
   ],
   "metadata": {
    "collapsed": false
   },
   "id": "d6a4772ea58ea7aa",
   "execution_count": null
  },
  {
   "cell_type": "markdown",
   "source": [
    "### Instalando e carregando extensão do postgres"
   ],
   "metadata": {
    "collapsed": false
   },
   "id": "3bf867fb9a65e476"
  },
  {
   "cell_type": "code",
   "outputs": [
    {
     "data": {
      "text/plain": "FloatProgress(value=0.0, layout=Layout(width='auto'), style=ProgressStyle(bar_color='black'))",
      "application/vnd.jupyter.widget-view+json": {
       "version_major": 2,
       "version_minor": 0,
       "model_id": "51f07e69a84e459d9e29a5fc6953a5a7"
      }
     },
     "metadata": {},
     "output_type": "display_data"
    }
   ],
   "source": [
    "conn.sql('INSTALL POSTGRES')\n",
    "conn.sql('LOAD POSTGRES')"
   ],
   "metadata": {
    "collapsed": false,
    "ExecuteTime": {
     "end_time": "2024-03-20T02:02:49.460359Z",
     "start_time": "2024-03-20T02:02:41.347190Z"
    }
   },
   "id": "d40cbca8357ababf",
   "execution_count": 3
  },
  {
   "cell_type": "code",
   "outputs": [],
   "source": [
    "conn.sql(\"ATTACH 'dbname=postgres user=dsa password=admin123 host=127.0.0.1 port=5437' AS pg (TYPE postgres);\")"
   ],
   "metadata": {
    "collapsed": false,
    "ExecuteTime": {
     "end_time": "2024-03-20T02:02:55.708305Z",
     "start_time": "2024-03-20T02:02:55.220871Z"
    }
   },
   "id": "b1d6497a9769ce25",
   "execution_count": 4
  },
  {
   "cell_type": "code",
   "outputs": [
    {
     "data": {
      "text/plain": "┌─────────┬───────────────┬─────────────┬──────────┬───────────┬──────────────┐\n│ cod_uf  │ cod_municipio │ cod_especie │ latitude │ longitude │ nv_geo_coord │\n│ varchar │    varchar    │    int32    │ varchar  │  varchar  │    int32     │\n├─────────────────────────────────────────────────────────────────────────────┤\n│                                   0 rows                                    │\n└─────────────────────────────────────────────────────────────────────────────┘"
     },
     "execution_count": 5,
     "metadata": {},
     "output_type": "execute_result"
    }
   ],
   "source": [
    "conn.sql(\"SELECT * FROM pg.DesafioSqlAlchemy.endereco\")"
   ],
   "metadata": {
    "collapsed": false,
    "ExecuteTime": {
     "end_time": "2024-03-20T02:02:59.126681Z",
     "start_time": "2024-03-20T02:02:58.896760Z"
    }
   },
   "id": "3dd8c7441cf3a47f",
   "execution_count": 5
  },
  {
   "cell_type": "markdown",
   "source": [],
   "metadata": {
    "collapsed": false
   },
   "id": "f122b2a09e615614"
  },
  {
   "cell_type": "markdown",
   "source": [
    "### Persistindo dados memoria -> Postgres"
   ],
   "metadata": {
    "collapsed": false
   },
   "id": "8ce8a8e46d3fbd27"
  },
  {
   "cell_type": "code",
   "outputs": [
    {
     "data": {
      "text/plain": "FloatProgress(value=0.0, layout=Layout(width='auto'), style=ProgressStyle(bar_color='black'))",
      "application/vnd.jupyter.widget-view+json": {
       "version_major": 2,
       "version_minor": 0,
       "model_id": "48f347f521614ef9baefe320a56047da"
      }
     },
     "metadata": {},
     "output_type": "display_data"
    }
   ],
   "source": [
    "conn.sql(\"INSERT INTO pg.DesafioSqlAlchemy.endereco SELECT * FROM 'endereco'; \")"
   ],
   "metadata": {
    "collapsed": false,
    "ExecuteTime": {
     "end_time": "2024-03-20T02:18:19.232817Z",
     "start_time": "2024-03-20T02:03:02.641129Z"
    }
   },
   "id": "da7690911e87d181",
   "execution_count": 6
  },
  {
   "cell_type": "markdown",
   "source": [
    "### Contagem de registros na base do Postgres."
   ],
   "metadata": {
    "collapsed": false
   },
   "id": "1d442a1740a9e8f3"
  },
  {
   "cell_type": "code",
   "outputs": [
    {
     "data": {
      "text/plain": "FloatProgress(value=0.0, layout=Layout(width='auto'), style=ProgressStyle(bar_color='black'))",
      "application/vnd.jupyter.widget-view+json": {
       "version_major": 2,
       "version_minor": 0,
       "model_id": "416304fb06a449e5a485ef73a499d489"
      }
     },
     "metadata": {},
     "output_type": "display_data"
    },
    {
     "data": {
      "text/plain": "┌──────────────┐\n│ count_star() │\n│    int64     │\n├──────────────┤\n│    111102875 │\n└──────────────┘"
     },
     "execution_count": 7,
     "metadata": {},
     "output_type": "execute_result"
    }
   ],
   "source": [
    "conn.sql(\"SELECT COUNT(*) FROM pg.DesafioSqlAlchemy.endereco\")"
   ],
   "metadata": {
    "collapsed": false,
    "ExecuteTime": {
     "end_time": "2024-03-20T02:24:05.005084Z",
     "start_time": "2024-03-20T02:19:21.568900Z"
    }
   },
   "id": "2487ab287eabca60",
   "execution_count": 7
  },
  {
   "cell_type": "code",
   "outputs": [],
   "source": [],
   "metadata": {
    "collapsed": false
   },
   "id": "8cb9904c291d2ce0"
  }
 ],
 "metadata": {
  "kernelspec": {
   "display_name": "Python 3",
   "language": "python",
   "name": "python3"
  },
  "language_info": {
   "codemirror_mode": {
    "name": "ipython",
    "version": 2
   },
   "file_extension": ".py",
   "mimetype": "text/x-python",
   "name": "python",
   "nbconvert_exporter": "python",
   "pygments_lexer": "ipython2",
   "version": "2.7.6"
  }
 },
 "nbformat": 4,
 "nbformat_minor": 5
}
