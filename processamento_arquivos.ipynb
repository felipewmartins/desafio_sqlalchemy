{
 "cells": [
  {
   "cell_type": "markdown",
   "id": "e27b8f7eed21c015",
   "metadata": {
    "collapsed": false
   },
   "source": [
    "### Criação do banco em memória"
   ]
  },
  {
   "cell_type": "code",
   "execution_count": 3,
   "id": "447611fbbaa2442a",
   "metadata": {
    "ExecuteTime": {
     "end_time": "2024-03-20T02:00:16.541970Z",
     "start_time": "2024-03-20T02:00:15.968318Z"
    },
    "collapsed": false
   },
   "outputs": [
    {
     "data": {
      "text/plain": [
       "<duckdb.duckdb.DuckDBPyConnection at 0x1fedb828470>"
      ]
     },
     "execution_count": 3,
     "metadata": {},
     "output_type": "execute_result"
    }
   ],
   "source": [
    "import duckdb as duck\n",
    "\n",
    "conn = duck.connect(database=':memory:', read_only=False)\n",
    "conn.execute(\"CREATE TABLE endereco(COD_UF int64, COD_MUN int64, COD_ESPECIE int64, LATITUDE double, LONGITUDE double, NV_GEO_COORD int64)\")"
   ]
  },
  {
   "cell_type": "markdown",
   "id": "31cf5ea99960e752",
   "metadata": {
    "collapsed": false
   },
   "source": [
    "### Lendo lista de arquivos e processando dados em memória."
   ]
  },
  {
   "cell_type": "code",
   "execution_count": null,
   "id": "d6a4772ea58ea7aa",
   "metadata": {
    "collapsed": false
   },
   "outputs": [],
   "source": [
    "import os\n",
    "from shutil import move\n",
    "\n",
    "arquivos = os.listdir('data')\n",
    "\n",
    "def persistDataInMemory(arquivo):\n",
    "    conn.sql(f\"INSERT INTO endereco SELECT * FROM read_csv('data/{arquivo}')\")\n",
    "    \n",
    "def moveArquivoProcessado(arquivo):\n",
    "    move('data/'+arquivo, 'processados/'+arquivo)\n",
    "\n",
    "for arquivo in arquivos:\n",
    "    print(f\"Iniciando processamento do arquivo ==> 'data/{arquivo}'\")\n",
    "    persistDataInMemory(arquivo)\n",
    "    print(f\"Finalizando processamento do arquivo ==> 'data/{arquivo}'\")\n",
    "    print(f\"Iniciando move do arquivo ==> 'data/{arquivo}\")\n",
    "    moveArquivoProcessado(arquivo)\n",
    "    print(f\"Finalizando move do arquivo ==> 'data/{arquivo}\")"
   ]
  },
  {
   "cell_type": "markdown",
   "id": "3bf867fb9a65e476",
   "metadata": {
    "collapsed": false
   },
   "source": [
    "### Instalando e carregando extensão do postgres"
   ]
  },
  {
   "cell_type": "code",
   "execution_count": null,
   "id": "d40cbca8357ababf",
   "metadata": {
    "ExecuteTime": {
     "end_time": "2024-03-20T02:02:49.460359Z",
     "start_time": "2024-03-20T02:02:41.347190Z"
    },
    "collapsed": false
   },
   "outputs": [],
   "source": [
    "conn.sql('INSTALL POSTGRES')\n",
    "conn.sql('LOAD POSTGRES')"
   ]
  },
  {
   "cell_type": "code",
   "execution_count": 7,
   "id": "b1d6497a9769ce25",
   "metadata": {
    "ExecuteTime": {
     "end_time": "2024-03-20T02:02:55.708305Z",
     "start_time": "2024-03-20T02:02:55.220871Z"
    },
    "collapsed": false
   },
   "outputs": [],
   "source": [
    "conn.sql(\"ATTACH 'dbname=postgres user=dsa password=admin123 host=127.0.0.1 port=5437' AS pg (TYPE postgres);\")"
   ]
  },
  {
   "cell_type": "code",
   "execution_count": null,
   "id": "3dd8c7441cf3a47f",
   "metadata": {
    "ExecuteTime": {
     "end_time": "2024-03-20T02:02:59.126681Z",
     "start_time": "2024-03-20T02:02:58.896760Z"
    },
    "collapsed": false
   },
   "outputs": [],
   "source": [
    "conn.sql(\"SELECT * FROM pg.DesafioSqlAlchemy.endereco\")"
   ]
  },
  {
   "cell_type": "markdown",
   "id": "f122b2a09e615614",
   "metadata": {
    "collapsed": false
   },
   "source": []
  },
  {
   "cell_type": "markdown",
   "id": "8ce8a8e46d3fbd27",
   "metadata": {
    "collapsed": false
   },
   "source": [
    "### Persistindo dados memoria -> Postgres"
   ]
  },
  {
   "cell_type": "code",
   "execution_count": null,
   "id": "da7690911e87d181",
   "metadata": {
    "ExecuteTime": {
     "end_time": "2024-03-20T02:18:19.232817Z",
     "start_time": "2024-03-20T02:03:02.641129Z"
    },
    "collapsed": false
   },
   "outputs": [],
   "source": [
    "conn.sql(\"INSERT INTO pg.DesafioSqlAlchemy.endereco SELECT * FROM 'endereco'; \")"
   ]
  },
  {
   "cell_type": "markdown",
   "id": "1d442a1740a9e8f3",
   "metadata": {
    "collapsed": false
   },
   "source": [
    "### Contagem de registros na base do Postgres."
   ]
  },
  {
   "cell_type": "code",
   "execution_count": null,
   "id": "2487ab287eabca60",
   "metadata": {
    "ExecuteTime": {
     "end_time": "2024-03-20T02:24:05.005084Z",
     "start_time": "2024-03-20T02:19:21.568900Z"
    },
    "collapsed": false
   },
   "outputs": [],
   "source": [
    "conn.sql(\"SELECT COUNT(*) FROM pg.DesafioSqlAlchemy.endereco\")"
   ]
  },
  {
   "cell_type": "code",
   "execution_count": null,
   "id": "8cb9904c291d2ce0",
   "metadata": {
    "collapsed": false
   },
   "outputs": [],
   "source": []
  }
 ],
 "metadata": {
  "kernelspec": {
   "display_name": "Python 3",
   "language": "python",
   "name": "python3"
  },
  "language_info": {
   "codemirror_mode": {
    "name": "ipython",
    "version": 3
   },
   "file_extension": ".py",
   "mimetype": "text/x-python",
   "name": "python",
   "nbconvert_exporter": "python",
   "pygments_lexer": "ipython3",
   "version": "3.8.18"
  }
 },
 "nbformat": 4,
 "nbformat_minor": 5
}
